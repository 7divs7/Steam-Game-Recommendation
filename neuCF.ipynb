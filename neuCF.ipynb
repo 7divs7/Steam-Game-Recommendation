{
 "cells": [
  {
   "cell_type": "markdown",
   "metadata": {},
   "source": [
    "NEURAL COLLABORATIVE FILTERING"
   ]
  },
  {
   "cell_type": "code",
   "execution_count": 3,
   "metadata": {},
   "outputs": [],
   "source": [
    "import pandas as pd\n",
    "import tensorflow as tf \n",
    "from tensorflow.keras.layers import Input, Embedding, Flatten, Dense, Concatenate, Dot, Dropout\n",
    "from tensorflow.keras.models import Model\n",
    "from tensorflow.keras.activations import relu, sigmoid"
   ]
  },
  {
   "cell_type": "code",
   "execution_count": 4,
   "metadata": {},
   "outputs": [
    {
     "data": {
      "text/html": [
       "<div>\n",
       "<style scoped>\n",
       "    .dataframe tbody tr th:only-of-type {\n",
       "        vertical-align: middle;\n",
       "    }\n",
       "\n",
       "    .dataframe tbody tr th {\n",
       "        vertical-align: top;\n",
       "    }\n",
       "\n",
       "    .dataframe thead th {\n",
       "        text-align: right;\n",
       "    }\n",
       "</style>\n",
       "<table border=\"1\" class=\"dataframe\">\n",
       "  <thead>\n",
       "    <tr style=\"text-align: right;\">\n",
       "      <th></th>\n",
       "      <th>app_id</th>\n",
       "      <th>hours</th>\n",
       "      <th>user_id</th>\n",
       "    </tr>\n",
       "  </thead>\n",
       "  <tbody>\n",
       "    <tr>\n",
       "      <th>0</th>\n",
       "      <td>975370</td>\n",
       "      <td>0.036362</td>\n",
       "      <td>51580</td>\n",
       "    </tr>\n",
       "    <tr>\n",
       "      <th>1</th>\n",
       "      <td>304390</td>\n",
       "      <td>0.011520</td>\n",
       "      <td>2586</td>\n",
       "    </tr>\n",
       "    <tr>\n",
       "      <th>2</th>\n",
       "      <td>1085660</td>\n",
       "      <td>0.337073</td>\n",
       "      <td>253880</td>\n",
       "    </tr>\n",
       "    <tr>\n",
       "      <th>3</th>\n",
       "      <td>703080</td>\n",
       "      <td>0.027447</td>\n",
       "      <td>259432</td>\n",
       "    </tr>\n",
       "    <tr>\n",
       "      <th>4</th>\n",
       "      <td>526870</td>\n",
       "      <td>0.007913</td>\n",
       "      <td>23869</td>\n",
       "    </tr>\n",
       "    <tr>\n",
       "      <th>...</th>\n",
       "      <td>...</td>\n",
       "      <td>...</td>\n",
       "      <td>...</td>\n",
       "    </tr>\n",
       "    <tr>\n",
       "      <th>15998</th>\n",
       "      <td>260230</td>\n",
       "      <td>0.007012</td>\n",
       "      <td>9417270</td>\n",
       "    </tr>\n",
       "    <tr>\n",
       "      <th>15999</th>\n",
       "      <td>329430</td>\n",
       "      <td>0.002003</td>\n",
       "      <td>2465811</td>\n",
       "    </tr>\n",
       "    <tr>\n",
       "      <th>16000</th>\n",
       "      <td>633230</td>\n",
       "      <td>0.038065</td>\n",
       "      <td>1893954</td>\n",
       "    </tr>\n",
       "    <tr>\n",
       "      <th>16001</th>\n",
       "      <td>341940</td>\n",
       "      <td>0.001002</td>\n",
       "      <td>2465811</td>\n",
       "    </tr>\n",
       "    <tr>\n",
       "      <th>16002</th>\n",
       "      <td>335670</td>\n",
       "      <td>0.029049</td>\n",
       "      <td>2511774</td>\n",
       "    </tr>\n",
       "  </tbody>\n",
       "</table>\n",
       "<p>16003 rows × 3 columns</p>\n",
       "</div>"
      ],
      "text/plain": [
       "        app_id     hours  user_id\n",
       "0       975370  0.036362    51580\n",
       "1       304390  0.011520     2586\n",
       "2      1085660  0.337073   253880\n",
       "3       703080  0.027447   259432\n",
       "4       526870  0.007913    23869\n",
       "...        ...       ...      ...\n",
       "15998   260230  0.007012  9417270\n",
       "15999   329430  0.002003  2465811\n",
       "16000   633230  0.038065  1893954\n",
       "16001   341940  0.001002  2465811\n",
       "16002   335670  0.029049  2511774\n",
       "\n",
       "[16003 rows x 3 columns]"
      ]
     },
     "execution_count": 4,
     "metadata": {},
     "output_type": "execute_result"
    }
   ],
   "source": [
    "# Load data\n",
    "df = pd.read_csv('datasets/training_set_recommendations.csv')\n",
    "\n",
    "df"
   ]
  },
  {
   "cell_type": "code",
   "execution_count": 5,
   "metadata": {},
   "outputs": [],
   "source": [
    "# Define the NeuMF Model with Functional API\n",
    "def build_neumf_model(num_users, num_items, latent_dim_gmf, latent_dim_mlp, mlp_layers, dropout_rate_gmf, dropout_rate_mlp):\n",
    "    # Inputs\n",
    "    user_input = Input(shape=(1,), dtype='int32', name='user_input')\n",
    "    item_input = Input(shape=(1,), dtype='int32', name='item_input')\n",
    "\n",
    "    # GMF Embeddings\n",
    "    user_embedding_gmf = Embedding(input_dim=num_users, output_dim=latent_dim_gmf, name='gmf_user_embedding')(user_input)\n",
    "    item_embedding_gmf = Embedding(input_dim=num_items, output_dim=latent_dim_gmf, name='gmf_item_embedding')(item_input)\n",
    "    gmf_vector = tf.multiply(user_embedding_gmf, item_embedding_gmf)\n",
    "    gmf_vector = Flatten()(gmf_vector)\n",
    "    gmf_vector = Dropout(dropout_rate_gmf)(gmf_vector)\n",
    "\n",
    "    # MLP Embeddings\n",
    "    user_embedding_mlp = Embedding(input_dim=num_users, output_dim=latent_dim_mlp, name='mlp_user_embedding')(user_input)\n",
    "    item_embedding_mlp = Embedding(input_dim=num_items, output_dim=latent_dim_mlp, name='mlp_item_embedding')(item_input)\n",
    "    mlp_vector = Concatenate()([user_embedding_mlp, item_embedding_mlp])\n",
    "    mlp_vector = Flatten()(mlp_vector)\n",
    "\n",
    "    # MLP Layers\n",
    "    for in_size, out_size in zip(mlp_layers[:-1], mlp_layers[1:]):\n",
    "        mlp_vector = Dense(out_size, activation='relu')(mlp_vector)\n",
    "    mlp_vector = Dropout(dropout_rate_mlp)(mlp_vector)\n",
    "\n",
    "    # Combine GMF and MLP vectors\n",
    "    combined_vector = Concatenate()([gmf_vector, mlp_vector])\n",
    "    logits = Dense(1, activation='sigmoid')(combined_vector)\n",
    "\n",
    "    # Define the model\n",
    "    model = Model(inputs=[user_input, item_input], outputs=logits)\n",
    "    return model"
   ]
  },
  {
   "cell_type": "code",
   "execution_count": 6,
   "metadata": {},
   "outputs": [],
   "source": [
    "# Parameters\n",
    "df['user_id'], user_id_mapping = pd.factorize(df['user_id'])\n",
    "df['app_id'], app_id_mapping = pd.factorize(df['app_id'])\n",
    "n_users = df['user_id'].nunique()   # 2000\n",
    "n_items = df['app_id'].nunique()    # 3723\n",
    "embedding_dim_gmf = 10\n",
    "embedding_dim_mlp = 20\n",
    "\n",
    "# Parameters for MLP layers\n",
    "mlp_layers = [embedding_dim_mlp * 2, 128, 64] \n",
    "dropout_rate_gmf = 0.2\n",
    "dropout_rate_mlp = 0.2\n",
    "\n",
    "# Build and compile the NeuMF model\n",
    "model = build_neumf_model(\n",
    "    num_users=n_users,\n",
    "    num_items=n_items,\n",
    "    latent_dim_gmf=embedding_dim_gmf,\n",
    "    latent_dim_mlp=embedding_dim_mlp,\n",
    "    mlp_layers=mlp_layers,\n",
    "    dropout_rate_gmf=dropout_rate_gmf,\n",
    "    dropout_rate_mlp=dropout_rate_mlp\n",
    ")"
   ]
  },
  {
   "cell_type": "code",
   "execution_count": 7,
   "metadata": {},
   "outputs": [],
   "source": [
    "model.compile(optimizer='adam', loss='binary_crossentropy', metrics=['accuracy'])"
   ]
  },
  {
   "cell_type": "code",
   "execution_count": 8,
   "metadata": {},
   "outputs": [],
   "source": [
    "import numpy as np\n",
    "\n",
    "# Preparing training data\n",
    "user_indices = np.array(df['user_id'])\n",
    "item_indices = np.array(df['app_id'])\n",
    "y_train = np.array(df['hours'])  \n",
    "y_train_binary = (y_train > 0.5).astype(int) "
   ]
  },
  {
   "cell_type": "code",
   "execution_count": 9,
   "metadata": {},
   "outputs": [
    {
     "name": "stdout",
     "output_type": "stream",
     "text": [
      "Epoch 1/10\n",
      "226/226 [==============================] - 2s 6ms/step - loss: 0.2374 - accuracy: 0.9476 - val_loss: 0.0541 - val_accuracy: 0.9950\n",
      "Epoch 2/10\n",
      "226/226 [==============================] - 1s 3ms/step - loss: 0.1299 - accuracy: 0.9491 - val_loss: 0.0565 - val_accuracy: 0.9950\n",
      "Epoch 3/10\n",
      "226/226 [==============================] - 1s 3ms/step - loss: 0.1009 - accuracy: 0.9579 - val_loss: 0.0771 - val_accuracy: 0.9881\n",
      "Epoch 4/10\n",
      "226/226 [==============================] - 1s 3ms/step - loss: 0.0876 - accuracy: 0.9638 - val_loss: 0.0952 - val_accuracy: 0.9756\n",
      "Epoch 5/10\n",
      "226/226 [==============================] - 1s 3ms/step - loss: 0.0769 - accuracy: 0.9672 - val_loss: 0.0967 - val_accuracy: 0.9769\n",
      "Epoch 6/10\n",
      "226/226 [==============================] - 1s 3ms/step - loss: 0.0660 - accuracy: 0.9726 - val_loss: 0.1069 - val_accuracy: 0.9731\n",
      "Epoch 7/10\n",
      "226/226 [==============================] - 1s 2ms/step - loss: 0.0527 - accuracy: 0.9791 - val_loss: 0.1166 - val_accuracy: 0.9688\n",
      "Epoch 8/10\n",
      "226/226 [==============================] - 1s 3ms/step - loss: 0.0420 - accuracy: 0.9843 - val_loss: 0.1230 - val_accuracy: 0.9688\n",
      "Epoch 9/10\n",
      "226/226 [==============================] - 1s 2ms/step - loss: 0.0326 - accuracy: 0.9878 - val_loss: 0.1297 - val_accuracy: 0.9625\n",
      "Epoch 10/10\n",
      "226/226 [==============================] - 1s 2ms/step - loss: 0.0247 - accuracy: 0.9919 - val_loss: 0.1590 - val_accuracy: 0.9457\n"
     ]
    }
   ],
   "source": [
    "# Train the model\n",
    "history = model.fit(\n",
    "    [user_indices, item_indices], \n",
    "    y_train_binary,\n",
    "    epochs=10, \n",
    "    batch_size=64, \n",
    "    validation_split=0.1\n",
    ")"
   ]
  },
  {
   "cell_type": "code",
   "execution_count": 10,
   "metadata": {},
   "outputs": [
    {
     "name": "stdout",
     "output_type": "stream",
     "text": [
      "501/501 [==============================] - 1s 1ms/step - loss: 0.0308 - accuracy: 0.9909\n",
      "Loss: 0.030765559524297714\n",
      "Accuracy: 0.990939199924469\n"
     ]
    }
   ],
   "source": [
    "# Evaluate the model\n",
    "loss, accuracy = model.evaluate([user_indices, item_indices], y_train_binary)\n",
    "print(f'Loss: {loss}')\n",
    "print(f'Accuracy: {accuracy}')"
   ]
  },
  {
   "cell_type": "code",
   "execution_count": 11,
   "metadata": {},
   "outputs": [
    {
     "name": "stdout",
     "output_type": "stream",
     "text": [
      "117/117 [==============================] - 0s 1ms/step\n",
      "Top recommended items for user 4: [  77 2711  159 1215 1394   47  307 1332  121   65]\n"
     ]
    }
   ],
   "source": [
    "def recommend_items_for_user(model, user_id, all_item_ids, df, num_recommendations=10):\n",
    "    # Get all item_ids user hasn't interacted with yet\n",
    "    interacted_items = df[df['user_id'] == user_id]['app_id'].tolist()\n",
    "    items_to_predict = [item for item in all_item_ids if item not in interacted_items]\n",
    "    \n",
    "    user_array = np.array([user_id] * len(items_to_predict))\n",
    "    item_array = np.array(items_to_predict)\n",
    "    \n",
    "    # Predict the scores for this user and the remaining items\n",
    "    predictions = model.predict([user_array, item_array])\n",
    "    \n",
    "    # Sort the predictions to get the top items\n",
    "    top_indices = predictions.flatten().argsort()[-num_recommendations:][::-1]\n",
    "    top_item_ids = item_array[top_indices]\n",
    "    \n",
    "    return top_item_ids\n",
    "\n",
    "all_item_ids = df['app_id'].unique()\n",
    "\n",
    "# Example: Recommend items for a specific user\n",
    "user_id = 4  # USER INPUT: Replace with the user_id you want recommendations for\n",
    "top_recommendations = recommend_items_for_user(model, user_id, all_item_ids, df, num_recommendations=10)\n",
    "\n",
    "print(f\"Top recommended items for user {user_id}: {top_recommendations}\")\n",
    "\n"
   ]
  }
 ],
 "metadata": {
  "kernelspec": {
   "display_name": "tensorflow-new",
   "language": "python",
   "name": "python3"
  },
  "language_info": {
   "codemirror_mode": {
    "name": "ipython",
    "version": 3
   },
   "file_extension": ".py",
   "mimetype": "text/x-python",
   "name": "python",
   "nbconvert_exporter": "python",
   "pygments_lexer": "ipython3",
   "version": "3.9.18"
  }
 },
 "nbformat": 4,
 "nbformat_minor": 2
}
