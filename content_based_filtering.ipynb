{
 "cells": [
  {
   "cell_type": "markdown",
   "metadata": {},
   "source": [
    "CONTENT-BASED FILTERING\n",
    "\n",
    "Using Cosine Similarity"
   ]
  },
  {
   "cell_type": "code",
   "execution_count": 1,
   "metadata": {},
   "outputs": [],
   "source": [
    "import re\n",
    "import json\n",
    "import pandas as pd\n",
    "import numpy as np\n",
    "import tensorflow as tf\n",
    "from sklearn.preprocessing import StandardScaler\n",
    "from sklearn.feature_extraction.text import TfidfVectorizer\n",
    "from scipy.sparse import hstack, csr_matrix\n",
    "from sklearn.metrics.pairwise import cosine_similarity"
   ]
  },
  {
   "cell_type": "code",
   "execution_count": 2,
   "metadata": {},
   "outputs": [
    {
     "data": {
      "text/html": [
       "<div>\n",
       "<style scoped>\n",
       "    .dataframe tbody tr th:only-of-type {\n",
       "        vertical-align: middle;\n",
       "    }\n",
       "\n",
       "    .dataframe tbody tr th {\n",
       "        vertical-align: top;\n",
       "    }\n",
       "\n",
       "    .dataframe thead th {\n",
       "        text-align: right;\n",
       "    }\n",
       "</style>\n",
       "<table border=\"1\" class=\"dataframe\">\n",
       "  <thead>\n",
       "    <tr style=\"text-align: right;\">\n",
       "      <th></th>\n",
       "      <th>app_id</th>\n",
       "      <th>title</th>\n",
       "      <th>positive_ratio</th>\n",
       "      <th>year</th>\n",
       "      <th>description_with_tags</th>\n",
       "      <th>os_label</th>\n",
       "    </tr>\n",
       "  </thead>\n",
       "  <tbody>\n",
       "    <tr>\n",
       "      <th>0</th>\n",
       "      <td>13500</td>\n",
       "      <td>prince of persia warrior within</td>\n",
       "      <td>84</td>\n",
       "      <td>2008</td>\n",
       "      <td>enter the dark underworld of prince of persia ...</td>\n",
       "      <td>0</td>\n",
       "    </tr>\n",
       "    <tr>\n",
       "      <th>1</th>\n",
       "      <td>22364</td>\n",
       "      <td>brink agents of change</td>\n",
       "      <td>85</td>\n",
       "      <td>2011</td>\n",
       "      <td>action</td>\n",
       "      <td>0</td>\n",
       "    </tr>\n",
       "    <tr>\n",
       "      <th>2</th>\n",
       "      <td>113020</td>\n",
       "      <td>monaco what s yours is mine</td>\n",
       "      <td>92</td>\n",
       "      <td>2013</td>\n",
       "      <td>monaco what s yours is mine is a single player...</td>\n",
       "      <td>6</td>\n",
       "    </tr>\n",
       "    <tr>\n",
       "      <th>3</th>\n",
       "      <td>226560</td>\n",
       "      <td>escape dead island</td>\n",
       "      <td>61</td>\n",
       "      <td>2014</td>\n",
       "      <td>escape dead island is a survival mystery adven...</td>\n",
       "      <td>0</td>\n",
       "    </tr>\n",
       "    <tr>\n",
       "      <th>4</th>\n",
       "      <td>249050</td>\n",
       "      <td>dungeon of the endless</td>\n",
       "      <td>88</td>\n",
       "      <td>2014</td>\n",
       "      <td>dungeon of the endless is a rogue like dungeon...</td>\n",
       "      <td>3</td>\n",
       "    </tr>\n",
       "    <tr>\n",
       "      <th>...</th>\n",
       "      <td>...</td>\n",
       "      <td>...</td>\n",
       "      <td>...</td>\n",
       "      <td>...</td>\n",
       "      <td>...</td>\n",
       "      <td>...</td>\n",
       "    </tr>\n",
       "    <tr>\n",
       "      <th>49638</th>\n",
       "      <td>2455060</td>\n",
       "      <td>taboo trial</td>\n",
       "      <td>94</td>\n",
       "      <td>2023</td>\n",
       "      <td>in the rogue action game taboo trial you will ...</td>\n",
       "      <td>0</td>\n",
       "    </tr>\n",
       "    <tr>\n",
       "      <th>49639</th>\n",
       "      <td>1138640</td>\n",
       "      <td>hometopia</td>\n",
       "      <td>61</td>\n",
       "      <td>2023</td>\n",
       "      <td>build better together hometopia is a seriously...</td>\n",
       "      <td>0</td>\n",
       "    </tr>\n",
       "    <tr>\n",
       "      <th>49640</th>\n",
       "      <td>2515460</td>\n",
       "      <td>northgard kernev clan of the stoat</td>\n",
       "      <td>67</td>\n",
       "      <td>2023</td>\n",
       "      <td>strategy indie simulation</td>\n",
       "      <td>6</td>\n",
       "    </tr>\n",
       "    <tr>\n",
       "      <th>49641</th>\n",
       "      <td>1687000</td>\n",
       "      <td>fading afternoon</td>\n",
       "      <td>79</td>\n",
       "      <td>2023</td>\n",
       "      <td>seiji maruyama is a middle aged yakuza recentl...</td>\n",
       "      <td>0</td>\n",
       "    </tr>\n",
       "    <tr>\n",
       "      <th>49642</th>\n",
       "      <td>2272250</td>\n",
       "      <td>forgive me father</td>\n",
       "      <td>95</td>\n",
       "      <td>2023</td>\n",
       "      <td>embark on a journey into the darkest nightmare...</td>\n",
       "      <td>0</td>\n",
       "    </tr>\n",
       "  </tbody>\n",
       "</table>\n",
       "<p>49643 rows × 6 columns</p>\n",
       "</div>"
      ],
      "text/plain": [
       "        app_id                               title  positive_ratio  year  \\\n",
       "0        13500     prince of persia warrior within              84  2008   \n",
       "1        22364              brink agents of change              85  2011   \n",
       "2       113020         monaco what s yours is mine              92  2013   \n",
       "3       226560                  escape dead island              61  2014   \n",
       "4       249050              dungeon of the endless              88  2014   \n",
       "...        ...                                 ...             ...   ...   \n",
       "49638  2455060                         taboo trial              94  2023   \n",
       "49639  1138640                           hometopia              61  2023   \n",
       "49640  2515460  northgard kernev clan of the stoat              67  2023   \n",
       "49641  1687000                    fading afternoon              79  2023   \n",
       "49642  2272250                   forgive me father              95  2023   \n",
       "\n",
       "                                   description_with_tags  os_label  \n",
       "0      enter the dark underworld of prince of persia ...         0  \n",
       "1                                                 action         0  \n",
       "2      monaco what s yours is mine is a single player...         6  \n",
       "3      escape dead island is a survival mystery adven...         0  \n",
       "4      dungeon of the endless is a rogue like dungeon...         3  \n",
       "...                                                  ...       ...  \n",
       "49638  in the rogue action game taboo trial you will ...         0  \n",
       "49639  build better together hometopia is a seriously...         0  \n",
       "49640                          strategy indie simulation         6  \n",
       "49641  seiji maruyama is a middle aged yakuza recentl...         0  \n",
       "49642  embark on a journey into the darkest nightmare...         0  \n",
       "\n",
       "[49643 rows x 6 columns]"
      ]
     },
     "execution_count": 2,
     "metadata": {},
     "output_type": "execute_result"
    }
   ],
   "source": [
    "games_df = pd.read_csv('datasets/training_set.csv')\n",
    "\n",
    "games_df"
   ]
  },
  {
   "cell_type": "code",
   "execution_count": 3,
   "metadata": {},
   "outputs": [],
   "source": [
    "# Separate features\n",
    "text_data = games_df['description_with_tags']\n",
    "numeric_data = games_df[['positive_ratio', 'year', 'os_label']]"
   ]
  },
  {
   "cell_type": "code",
   "execution_count": 4,
   "metadata": {},
   "outputs": [],
   "source": [
    "# preprocess text features using tf-idf\n",
    "vectorizer = TfidfVectorizer(analyzer='word', ngram_range=(1, 3), min_df=0.01, max_features=10000, stop_words='english')\n",
    "tfidf_matrix = vectorizer.fit_transform(text_data)"
   ]
  },
  {
   "cell_type": "code",
   "execution_count": 5,
   "metadata": {},
   "outputs": [],
   "source": [
    "# preprocess numerical features - standard scaling and then convert to sparse matrix\n",
    "scaler = StandardScaler()\n",
    "scaled_numeric = scaler.fit_transform(numeric_data)\n",
    "scaled_numeric_sparse = csr_matrix(scaled_numeric)"
   ]
  },
  {
   "cell_type": "code",
   "execution_count": 6,
   "metadata": {},
   "outputs": [],
   "source": [
    "# Combine all features in horizontal stack\n",
    "combined_features = hstack([tfidf_matrix, scaled_numeric_sparse])"
   ]
  },
  {
   "cell_type": "code",
   "execution_count": 7,
   "metadata": {},
   "outputs": [
    {
     "name": "stdout",
     "output_type": "stream",
     "text": [
      "(49643, 555)\n"
     ]
    }
   ],
   "source": [
    "print(tfidf_matrix.shape)"
   ]
  },
  {
   "cell_type": "code",
   "execution_count": 8,
   "metadata": {},
   "outputs": [
    {
     "name": "stdout",
     "output_type": "stream",
     "text": [
      "(49643, 3)\n"
     ]
    }
   ],
   "source": [
    "print(scaled_numeric_sparse.shape)"
   ]
  },
  {
   "cell_type": "code",
   "execution_count": 9,
   "metadata": {},
   "outputs": [],
   "source": [
    "# Convert the sparse matrix to a dense matrix and then to a TensorFlow tensor\n",
    "tfidf_dense = tfidf_matrix.toarray()\n",
    "tfidf_tensor = tf.convert_to_tensor(tfidf_dense, dtype=tf.float32)"
   ]
  },
  {
   "cell_type": "code",
   "execution_count": 10,
   "metadata": {},
   "outputs": [],
   "source": [
    "# Compute cosine similarity\n",
    "def cosine_similarity_tf(tfidf_tensor):\n",
    "    # Normalize the tf-idf matrix (L2 normalization)\n",
    "    norm = tf.norm(tfidf_tensor, axis=1, keepdims=True)\n",
    "    tfidf_normalized = tfidf_tensor / norm\n",
    "\n",
    "    # Compute cosine similarity matrix\n",
    "    similarity_matrix = tf.matmul(tfidf_normalized, tfidf_normalized, transpose_b=True)\n",
    "\n",
    "    return similarity_matrix"
   ]
  },
  {
   "cell_type": "code",
   "execution_count": 11,
   "metadata": {},
   "outputs": [
    {
     "name": "stdout",
     "output_type": "stream",
     "text": [
      "(49643, 49643)\n"
     ]
    }
   ],
   "source": [
    "# Run the similarity computation\n",
    "with tf.device('/GPU:0'):  # Use GPU if available\n",
    "    similarity_matrix = cosine_similarity_tf(tfidf_tensor)\n",
    "\n",
    "print(similarity_matrix.shape)"
   ]
  },
  {
   "cell_type": "markdown",
   "metadata": {},
   "source": [
    "USER INPUT \n",
    "\n",
    "For testing, pick a game from the datasets/output.csv and load it in the input_title"
   ]
  },
  {
   "cell_type": "code",
   "execution_count": 15,
   "metadata": {},
   "outputs": [
    {
     "name": "stdout",
     "output_type": "stream",
     "text": [
      "55\n"
     ]
    }
   ],
   "source": [
    "games_df_main = pd.read_csv('datasets/output.csv')\n",
    "\n",
    "# Input game annd index\n",
    "input_title = \"RIOT: Civil Unrest\"  # USER INPUT GOES HERE\n",
    "input_index = games_df_main[games_df_main['title'] == input_title].index[0]\n",
    "\n",
    "print(input_index)"
   ]
  },
  {
   "cell_type": "code",
   "execution_count": 16,
   "metadata": {},
   "outputs": [],
   "source": [
    "# Retrieve similarity scores\n",
    "similarity_scores = similarity_matrix[input_index]"
   ]
  },
  {
   "cell_type": "markdown",
   "metadata": {},
   "source": [
    "Results of Top 5 Similar Games to your input game"
   ]
  },
  {
   "cell_type": "code",
   "execution_count": 17,
   "metadata": {},
   "outputs": [
    {
     "name": "stdout",
     "output_type": "stream",
     "text": [
      "TOP 5 SIMILAR GAMES:\n",
      "17470                  Prison Architect - Undead\n",
      "13168           Prison Architect - Perfect Storm\n",
      "37689    Prison Architect - Cleared For Transfer\n",
      "1013                 Tank Warfare: Longstop Hill\n",
      "34993                       Battlefleet Engineer\n",
      "Name: title, dtype: object\n",
      "\n",
      "------------------------------------------------------------------------------------------------------\n",
      "SIMILARITY SCORES FOR TOP 5 SIMILAR GAMES:\n",
      "Item index: 17470 \n",
      "Game: Prison Architect - Undead \n",
      "Similarity score: 1.0\n",
      "\n",
      "Item index: 13168 \n",
      "Game: Prison Architect - Perfect Storm \n",
      "Similarity score: 0.607552170753479\n",
      "\n",
      "Item index: 37689 \n",
      "Game: Prison Architect - Cleared For Transfer \n",
      "Similarity score: 0.5513043403625488\n",
      "\n",
      "Item index: 1013 \n",
      "Game: Tank Warfare: Longstop Hill \n",
      "Similarity score: 0.5513043403625488\n",
      "\n",
      "Item index: 34993 \n",
      "Game: Battlefleet Engineer \n",
      "Similarity score: 0.525551974773407\n",
      "\n"
     ]
    }
   ],
   "source": [
    "# Get top N similar games (excluding the input game itself)\n",
    "N = 5\n",
    "top_values, top_indices = tf.math.top_k(similarity_scores, k=N+1)  # Get N+1 to skip the first one (self)\n",
    "top_indices = top_indices[1:]  # Skip the first index (self)\n",
    "\n",
    "# Convert indices to numpy for indexing into pandas dataframe\n",
    "top_indices_np = top_indices.numpy()\n",
    "\n",
    "# Get details of top similar games from your games dataframe\n",
    "top_similar_games = games_df_main.iloc[top_indices_np]\n",
    "\n",
    "# Print the titles of the top similar games\n",
    "print(\"TOP 5 SIMILAR GAMES:\")\n",
    "print(top_similar_games['title'])\n",
    "\n",
    "print()\n",
    "print('------------------------------------------------------------------------------------------------------')\n",
    "print('SIMILARITY SCORES FOR TOP 5 SIMILAR GAMES:')\n",
    "for idx in range(N):\n",
    "    app_id = top_indices[idx].numpy()\n",
    "    print(f\"Item index: {app_id} \\nGame: {games_df_main.iloc[app_id]['title']} \\nSimilarity score: {top_values[idx].numpy()}\")\n",
    "    print()\n",
    "    \n",
    "\n"
   ]
  }
 ],
 "metadata": {
  "kernelspec": {
   "display_name": "tensorflow-new",
   "language": "python",
   "name": "python3"
  },
  "language_info": {
   "codemirror_mode": {
    "name": "ipython",
    "version": 3
   },
   "file_extension": ".py",
   "mimetype": "text/x-python",
   "name": "python",
   "nbconvert_exporter": "python",
   "pygments_lexer": "ipython3",
   "version": "3.9.18"
  }
 },
 "nbformat": 4,
 "nbformat_minor": 2
}
